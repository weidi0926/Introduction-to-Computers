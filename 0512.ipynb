{
  "nbformat": 4,
  "nbformat_minor": 0,
  "metadata": {
    "colab": {
      "provenance": [],
      "authorship_tag": "ABX9TyO/HwKZhd/Ptl1EPUzoApb/",
      "include_colab_link": true
    },
    "kernelspec": {
      "name": "python3",
      "display_name": "Python 3"
    },
    "language_info": {
      "name": "python"
    }
  },
  "cells": [
    {
      "cell_type": "markdown",
      "metadata": {
        "id": "view-in-github",
        "colab_type": "text"
      },
      "source": [
        "<a href=\"https://colab.research.google.com/github/weidi0926/Introduction-to-Computers/blob/main/0512.ipynb\" target=\"_parent\"><img src=\"https://colab.research.google.com/assets/colab-badge.svg\" alt=\"Open In Colab\"/></a>"
      ]
    },
    {
      "cell_type": "code",
      "execution_count": null,
      "metadata": {
        "colab": {
          "base_uri": "https://localhost:8080/"
        },
        "id": "OCxhbTx4fBOr",
        "outputId": "1dfbce89-f14d-4504-d09f-ee515fe99e59"
      },
      "outputs": [
        {
          "output_type": "stream",
          "name": "stdout",
          "text": [
            "請輸入整數:43\n",
            "奇數\n",
            "Bye!!\n"
          ]
        }
      ],
      "source": [
        "num = int(input(\"請輸入整數:\"))\n",
        "if num % 2 == 0:\n",
        "  print(\"偶數\")\n",
        "else:\n",
        "  print(\"奇數\")\n",
        "print(\"Bye!!\")"
      ]
    },
    {
      "cell_type": "code",
      "source": [
        "age = int(input(\"請輸入您的年齡:\"))\n",
        "if age < 18:\n",
        "  print(\"未成年人\")\n",
        "elif age >= 18 and age <=65:\n",
        "  print(\"成年人\")\n",
        "else:\n",
        "  print(\"老年人\")\n"
      ],
      "metadata": {
        "colab": {
          "base_uri": "https://localhost:8080/"
        },
        "id": "zzev4QxWfpQB",
        "outputId": "449c3b2f-7a78-48d9-9ae8-0cf8b31912bc"
      },
      "execution_count": null,
      "outputs": [
        {
          "output_type": "stream",
          "name": "stdout",
          "text": [
            "請輸入您的年齡:65\n",
            "成年人\n"
          ]
        }
      ]
    },
    {
      "cell_type": "code",
      "source": [
        "month = int(input(\"請輸入月份\"))\n",
        "if month < 1:\n",
        "  print(\"無效月份\")\n",
        "elif month >= 1 and month <= 3:\n",
        "  print(\"春季\")\n",
        "elif month >= 4 and month <= 6:\n",
        "  print(\"夏季\")\n",
        "elif month >= 7 and month <= 9:\n",
        "  print(\"秋季\")\n",
        "elif month >= 10 and month <= 12:\n",
        "  print(\"冬季\")\n",
        "else:\n",
        "  print(\"無效月份\")\n"
      ],
      "metadata": {
        "colab": {
          "base_uri": "https://localhost:8080/"
        },
        "id": "vVJlYUprgXTj",
        "outputId": "d39d0f21-035d-4bd6-88d5-966275e0143a"
      },
      "execution_count": null,
      "outputs": [
        {
          "output_type": "stream",
          "name": "stdout",
          "text": [
            "請輸入月份13\n",
            "無效月份\n"
          ]
        }
      ]
    },
    {
      "cell_type": "code",
      "source": [],
      "metadata": {
        "id": "K9gv8Xlphi59"
      },
      "execution_count": null,
      "outputs": []
    }
  ]
}