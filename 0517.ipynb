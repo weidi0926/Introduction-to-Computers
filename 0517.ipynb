{
  "nbformat": 4,
  "nbformat_minor": 0,
  "metadata": {
    "colab": {
      "provenance": [],
      "authorship_tag": "ABX9TyNKWzKQgQHjx5cnSw7WNo3J",
      "include_colab_link": true
    },
    "kernelspec": {
      "name": "python3",
      "display_name": "Python 3"
    },
    "language_info": {
      "name": "python"
    }
  },
  "cells": [
    {
      "cell_type": "markdown",
      "metadata": {
        "id": "view-in-github",
        "colab_type": "text"
      },
      "source": [
        "<a href=\"https://colab.research.google.com/github/weidi0926/Introduction-to-Computers/blob/main/0517.ipynb\" target=\"_parent\"><img src=\"https://colab.research.google.com/assets/colab-badge.svg\" alt=\"Open In Colab\"/></a>"
      ]
    },
    {
      "cell_type": "code",
      "execution_count": 1,
      "metadata": {
        "colab": {
          "base_uri": "https://localhost:8080/"
        },
        "id": "U5RRQwSbTiGi",
        "outputId": "8eee154f-e0c2-4cbd-d24c-97354d0a3ec7"
      },
      "outputs": [
        {
          "output_type": "stream",
          "name": "stdout",
          "text": [
            "0517\n"
          ]
        }
      ],
      "source": [
        "print(\"0517\")"
      ]
    },
    {
      "cell_type": "code",
      "source": [
        "score = int(input(\"score:\"))\n",
        "if score >= 90:\n",
        "  print('Grade is : A')\n",
        "elif score >= 80:\n",
        "  print('Grade is : B')\n",
        "elif score >= 70:\n",
        "  print('Grade is : C')\n",
        "elif score >= 60:\n",
        "  print('Grade is : D')\n",
        "else:\n",
        "  print('Grade is : F')"
      ],
      "metadata": {
        "colab": {
          "base_uri": "https://localhost:8080/"
        },
        "id": "7_vFRZSXTrL5",
        "outputId": "3b084d26-2c26-4d4a-b37f-cd2a51244431"
      },
      "execution_count": 24,
      "outputs": [
        {
          "output_type": "stream",
          "name": "stdout",
          "text": [
            "score:55\n",
            "Grade is : F\n"
          ]
        }
      ]
    },
    {
      "cell_type": "code",
      "source": [
        "score = int(input(\"請輸入您的體溫:\"))\n",
        "if score < 34.0:\n",
        "  print(\"體溫異常，請重新測量\")\n",
        "elif score >= 34.0 and score < 36.9:\n",
        "  print(\"體溫正常!\")\n",
        "elif score >= 37.0 and score <= 37.4:\n",
        "  print(\"體溫正常!\")\n",
        "elif score >= 37.5:\n",
        "  print(\"體溫過高!\")\n",
        "else:\n",
        "  print(\"體溫異常，請重新量測!\")\n",
        "\n"
      ],
      "metadata": {
        "colab": {
          "base_uri": "https://localhost:8080/"
        },
        "id": "E_fbERDlUg7L",
        "outputId": "376b98c8-954e-4bf8-8a84-91237b01a7ad"
      },
      "execution_count": 34,
      "outputs": [
        {
          "output_type": "stream",
          "name": "stdout",
          "text": [
            "請輸入您的體溫:35\n",
            "體溫正常!\n"
          ]
        }
      ]
    },
    {
      "cell_type": "code",
      "source": [
        "month = int(input(\"請輸入月份\"))\n",
        "if month < 1:\n",
        "  print(\"無效月份\")\n",
        "elif month >= 1 and month <= 3:\n",
        "  print(\"春季\")\n",
        "elif month >= 4 and month <= 6:\n",
        "  print(\"夏季\")\n",
        "elif month >= 7 and month <= 9:\n",
        "  print(\"秋季\")\n",
        "elif month >= 10 and month <= 12:\n",
        "  print(\"冬季\")\n",
        "else:\n",
        "  print(\"無效月份\")"
      ],
      "metadata": {
        "colab": {
          "base_uri": "https://localhost:8080/"
        },
        "id": "1B2EPvmzYjyb",
        "outputId": "0f587da7-dbd5-4186-e52a-e3b49d8717da"
      },
      "execution_count": 17,
      "outputs": [
        {
          "output_type": "stream",
          "name": "stdout",
          "text": [
            "請輸入月份12\n",
            "冬季\n"
          ]
        }
      ]
    },
    {
      "cell_type": "code",
      "source": [],
      "metadata": {
        "id": "lr3o1uuNWwMY"
      },
      "execution_count": null,
      "outputs": []
    }
  ]
}